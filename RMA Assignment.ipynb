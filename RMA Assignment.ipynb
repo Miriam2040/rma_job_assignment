{
 "cells": [
  {
   "cell_type": "markdown",
   "id": "isolated-senegal",
   "metadata": {
    "Collapsed": "false"
   },
   "source": [
    "# RMA (Return Merchandise Authorization) Prediction assignment"
   ]
  },
  {
   "cell_type": "markdown",
   "id": "stock-matrix",
   "metadata": {
    "Collapsed": "false",
    "tags": []
   },
   "source": [
    "**Welcome to 'RMA Prediction' assignment, Below is a brief background:**\n",
    "\n",
    "Return merchandise authorization (RMA) is the process of returning a product to receive a refund, replacement, or repair during the product's warranty period. \n",
    "\n",
    "In the chip manufacturing industry, in particular, the manufacturers have an interest in detect these units before it being shipped and reach the market for a few reasons:\n",
    "\n",
    "- The cost of a single unit during production is nil, compared to replacing an entire end device that causes several times more damage\n",
    "\n",
    "- The damage done to a company's reputation when a new device is returned as bad one can be very significant\n",
    "\n",
    "- A malfunctioning unit can cause significant damage (you don't want such bad unit placed in ABS system of your car :) )\n",
    "\n",
    "There are detailed test programs in which thousands of tests are performed on chips during production to ensure quality and prevent such cases.\n",
    "\n",
    "RMA units means units that have passed all test cycles properly, and yet have been found to be defective in the field.\n",
    "\n",
    "The manufacturers are aware that there are such units and their goal is to predict which units will be malfunctioning soon even though they now appear to be working properly. Once predicting such units, they will mark them as bad and not ship them to customers.\n",
    "\n",
    "This use case is called \"RMA Prediction\" and this is the challenge you are required to deal with in this assignment!\n",
    "\n",
    "**Technical notes:**\n",
    "\n",
    "- Please follow the steps in this notebook\n",
    "\n",
    "- Please write all your code inside this notebook only\n",
    "\n",
    "- Please feel free to add more cells as you need\n",
    "\n",
    "- The goal of this assigment is not only the best model:\n",
    "    - there is also value in clean code, and in orderly and clear work\n",
    "    - Use visualizations and comments on the reasons for the actions you take\n",
    "    - It is recommended to show in the notebook also experiments you tried along the way\n",
    "\n",
    "\n",
    "- Avoid over-fitting. \n",
    "\n",
    "    - Your prediction results will be tested on a test set that is not available to you\n",
    "\n",
    "\n",
    "Good Luck!"
   ]
  },
  {
   "cell_type": "markdown",
   "id": "involved-clinic",
   "metadata": {
    "Collapsed": "false"
   },
   "source": [
    "# Packages\n",
    "\n",
    "First, import all the packages you'll need during this assignment. You can finish successfully this assigment with these packages only but feel free to use more libraries if you find it helpful\n",
    "\n",
    "- [numpy](www.numpy.org) is the main package for scientific computing with Python.\n",
    "- [pandas](https://pandas.pydata.org/) is a fast, powerful, flexible and easy to use open source data analysis and manipulation tool.\n",
    "- [matplotlib](http://matplotlib.org) is a library to plot graphs in Python.\n",
    "- [sklearn](https://scikit-learn.org/stable/) is the most useful and robust library for machine learning in Python.\n",
    "- [f1_score](https://scikit-learn.org/stable/modules/generated/sklearn.metrics.f1_score.html) Is the metric you should use to evaluate the performance of your model.\n",
    "- [pickle](https://docs.python.org/3/library/pickle.html) is a library for serializing and de-serializing Python object structures, also called marshalling or flattening\n",
    "- np.random.seed(1) is used to keep all the random function calls consistent. It helps grade your work. Please don't change the seed! "
   ]
  },
  {
   "cell_type": "code",
   "execution_count": 26,
   "id": "level-transportation",
   "metadata": {
    "Collapsed": "false"
   },
   "outputs": [],
   "source": [
    "import pandas as pd\n",
    "import numpy as np\n",
    "import matplotlib.pyplot as plt\n",
    "import sklearn\n",
    "from sklearn.metrics import f1_score\n",
    "import pickle\n",
    "np.random.seed(seed=1)"
   ]
  },
  {
   "cell_type": "markdown",
   "id": "different-queensland",
   "metadata": {
    "Collapsed": "false"
   },
   "source": [
    "# Load The Data"
   ]
  },
  {
   "cell_type": "markdown",
   "id": "appointed-present",
   "metadata": {
    "Collapsed": "false"
   },
   "source": [
    "First, let's load the data:"
   ]
  },
  {
   "cell_type": "code",
   "execution_count": 27,
   "id": "applied-gambling",
   "metadata": {
    "Collapsed": "false"
   },
   "outputs": [],
   "source": [
    "url_data_train = (r'https://raw.githubusercontent.com/NI-DS/rma_job_assignment/main/input/rma_train_data.csv')\n",
    "url_data_test = (r'https://raw.githubusercontent.com/NI-DS/rma_job_assignment/main/input/rma_test_data.csv')\n",
    "df_rma_train, df_rma_test = pd.read_csv(url_data_train), pd.read_csv(url_data_test)"
   ]
  },
  {
   "cell_type": "markdown",
   "id": "quality-parcel",
   "metadata": {
    "Collapsed": "false"
   },
   "source": [
    "We will now examine the dimensions of the data:"
   ]
  },
  {
   "cell_type": "code",
   "execution_count": 28,
   "id": "animated-train",
   "metadata": {
    "Collapsed": "false"
   },
   "outputs": [
    {
     "data": {
      "text/plain": [
       "((3616, 17), (905, 16))"
      ]
     },
     "execution_count": 28,
     "metadata": {},
     "output_type": "execute_result"
    }
   ],
   "source": [
    "df_rma_train.shape, df_rma_test.shape"
   ]
  },
  {
   "cell_type": "markdown",
   "id": "logical-illness",
   "metadata": {
    "Collapsed": "false"
   },
   "source": [
    "It can be seen that in the test-set there is one column more than the train-set.\n",
    "\n",
    "We will now print the first five rows of the DataFrame to see the values of the data."
   ]
  },
  {
   "cell_type": "code",
   "execution_count": 30,
   "id": "passive-split",
   "metadata": {
    "Collapsed": "false"
   },
   "outputs": [
    {
     "data": {
      "text/html": [
       "<div>\n",
       "<style scoped>\n",
       "    .dataframe tbody tr th:only-of-type {\n",
       "        vertical-align: middle;\n",
       "    }\n",
       "\n",
       "    .dataframe tbody tr th {\n",
       "        vertical-align: top;\n",
       "    }\n",
       "\n",
       "    .dataframe thead th {\n",
       "        text-align: right;\n",
       "    }\n",
       "</style>\n",
       "<table border=\"1\" class=\"dataframe\">\n",
       "  <thead>\n",
       "    <tr style=\"text-align: right;\">\n",
       "      <th></th>\n",
       "      <th>Test_0</th>\n",
       "      <th>Test_1</th>\n",
       "      <th>Test_2</th>\n",
       "      <th>Test_3</th>\n",
       "      <th>Test_4</th>\n",
       "      <th>Test_5</th>\n",
       "      <th>Test_6</th>\n",
       "      <th>Test_7</th>\n",
       "      <th>Test_8</th>\n",
       "      <th>Test_9</th>\n",
       "      <th>Test_10</th>\n",
       "      <th>Test_11</th>\n",
       "      <th>Test_12</th>\n",
       "      <th>Test_13</th>\n",
       "      <th>Test_14</th>\n",
       "      <th>Test_15</th>\n",
       "      <th>RMA</th>\n",
       "    </tr>\n",
       "  </thead>\n",
       "  <tbody>\n",
       "    <tr>\n",
       "      <th>0</th>\n",
       "      <td>217.80</td>\n",
       "      <td>B</td>\n",
       "      <td>Low</td>\n",
       "      <td>OP-1</td>\n",
       "      <td>True</td>\n",
       "      <td>506.18</td>\n",
       "      <td>False</td>\n",
       "      <td>True</td>\n",
       "      <td>2018.0</td>\n",
       "      <td>15.5</td>\n",
       "      <td>feb</td>\n",
       "      <td>192</td>\n",
       "      <td>4</td>\n",
       "      <td>-1</td>\n",
       "      <td>0</td>\n",
       "      <td>NaN</td>\n",
       "      <td>False</td>\n",
       "    </tr>\n",
       "    <tr>\n",
       "      <th>1</th>\n",
       "      <td>239.58</td>\n",
       "      <td>D</td>\n",
       "      <td>Low</td>\n",
       "      <td>OP-1</td>\n",
       "      <td>True</td>\n",
       "      <td>32.98</td>\n",
       "      <td>False</td>\n",
       "      <td>True</td>\n",
       "      <td>2018.0</td>\n",
       "      <td>86.8</td>\n",
       "      <td>jul</td>\n",
       "      <td>151</td>\n",
       "      <td>3</td>\n",
       "      <td>-1</td>\n",
       "      <td>0</td>\n",
       "      <td>NaN</td>\n",
       "      <td>False</td>\n",
       "    </tr>\n",
       "    <tr>\n",
       "      <th>2</th>\n",
       "      <td>225.06</td>\n",
       "      <td>H</td>\n",
       "      <td>Low</td>\n",
       "      <td>OP-1</td>\n",
       "      <td>True</td>\n",
       "      <td>134.64</td>\n",
       "      <td>False</td>\n",
       "      <td>True</td>\n",
       "      <td>2018.0</td>\n",
       "      <td>52.7</td>\n",
       "      <td>apr</td>\n",
       "      <td>279</td>\n",
       "      <td>1</td>\n",
       "      <td>-1</td>\n",
       "      <td>0</td>\n",
       "      <td>NaN</td>\n",
       "      <td>False</td>\n",
       "    </tr>\n",
       "    <tr>\n",
       "      <th>3</th>\n",
       "      <td>217.80</td>\n",
       "      <td>F</td>\n",
       "      <td>Mid</td>\n",
       "      <td>OP-17</td>\n",
       "      <td>True</td>\n",
       "      <td>260.74</td>\n",
       "      <td>False</td>\n",
       "      <td>False</td>\n",
       "      <td>NaN</td>\n",
       "      <td>18.6</td>\n",
       "      <td>jun</td>\n",
       "      <td>91</td>\n",
       "      <td>18</td>\n",
       "      <td>-1</td>\n",
       "      <td>0</td>\n",
       "      <td>NaN</td>\n",
       "      <td>False</td>\n",
       "    </tr>\n",
       "    <tr>\n",
       "      <th>4</th>\n",
       "      <td>283.14</td>\n",
       "      <td>B</td>\n",
       "      <td>High</td>\n",
       "      <td>OP-1</td>\n",
       "      <td>True</td>\n",
       "      <td>231.62</td>\n",
       "      <td>False</td>\n",
       "      <td>True</td>\n",
       "      <td>2018.0</td>\n",
       "      <td>27.9</td>\n",
       "      <td>jul</td>\n",
       "      <td>869</td>\n",
       "      <td>1</td>\n",
       "      <td>-1</td>\n",
       "      <td>0</td>\n",
       "      <td>NaN</td>\n",
       "      <td>True</td>\n",
       "    </tr>\n",
       "  </tbody>\n",
       "</table>\n",
       "</div>"
      ],
      "text/plain": [
       "   Test_0 Test_1 Test_2 Test_3  Test_4  Test_5  Test_6  Test_7  Test_8  \\\n",
       "0  217.80      B    Low   OP-1    True  506.18   False    True  2018.0   \n",
       "1  239.58      D    Low   OP-1    True   32.98   False    True  2018.0   \n",
       "2  225.06      H    Low   OP-1    True  134.64   False    True  2018.0   \n",
       "3  217.80      F    Mid  OP-17    True  260.74   False   False     NaN   \n",
       "4  283.14      B   High   OP-1    True  231.62   False    True  2018.0   \n",
       "\n",
       "   Test_9 Test_10  Test_11  Test_12  Test_13  Test_14 Test_15    RMA  \n",
       "0    15.5     feb      192        4       -1        0     NaN  False  \n",
       "1    86.8     jul      151        3       -1        0     NaN  False  \n",
       "2    52.7     apr      279        1       -1        0     NaN  False  \n",
       "3    18.6     jun       91       18       -1        0     NaN  False  \n",
       "4    27.9     jul      869        1       -1        0     NaN   True  "
      ]
     },
     "execution_count": 30,
     "metadata": {},
     "output_type": "execute_result"
    }
   ],
   "source": [
    "df_rma_train.head()"
   ]
  },
  {
   "cell_type": "code",
   "execution_count": 31,
   "id": "closed-frontier",
   "metadata": {
    "Collapsed": "false"
   },
   "outputs": [
    {
     "data": {
      "text/html": [
       "<div>\n",
       "<style scoped>\n",
       "    .dataframe tbody tr th:only-of-type {\n",
       "        vertical-align: middle;\n",
       "    }\n",
       "\n",
       "    .dataframe tbody tr th {\n",
       "        vertical-align: top;\n",
       "    }\n",
       "\n",
       "    .dataframe thead th {\n",
       "        text-align: right;\n",
       "    }\n",
       "</style>\n",
       "<table border=\"1\" class=\"dataframe\">\n",
       "  <thead>\n",
       "    <tr style=\"text-align: right;\">\n",
       "      <th></th>\n",
       "      <th>Test_0</th>\n",
       "      <th>Test_1</th>\n",
       "      <th>Test_2</th>\n",
       "      <th>Test_3</th>\n",
       "      <th>Test_4</th>\n",
       "      <th>Test_5</th>\n",
       "      <th>Test_6</th>\n",
       "      <th>Test_7</th>\n",
       "      <th>Test_8</th>\n",
       "      <th>Test_9</th>\n",
       "      <th>Test_10</th>\n",
       "      <th>Test_11</th>\n",
       "      <th>Test_12</th>\n",
       "      <th>Test_13</th>\n",
       "      <th>Test_14</th>\n",
       "      <th>Test_15</th>\n",
       "    </tr>\n",
       "  </thead>\n",
       "  <tbody>\n",
       "    <tr>\n",
       "      <th>0</th>\n",
       "      <td>312.18</td>\n",
       "      <td>H</td>\n",
       "      <td>High</td>\n",
       "      <td>OP-1</td>\n",
       "      <td>True</td>\n",
       "      <td>244.88</td>\n",
       "      <td>False</td>\n",
       "      <td>True</td>\n",
       "      <td>2018.0</td>\n",
       "      <td>65.1</td>\n",
       "      <td>nov</td>\n",
       "      <td>585</td>\n",
       "      <td>4</td>\n",
       "      <td>191</td>\n",
       "      <td>4</td>\n",
       "      <td>TP-1549</td>\n",
       "    </tr>\n",
       "    <tr>\n",
       "      <th>1</th>\n",
       "      <td>283.14</td>\n",
       "      <td>F</td>\n",
       "      <td>Mid</td>\n",
       "      <td>OP-17</td>\n",
       "      <td>True</td>\n",
       "      <td>42.34</td>\n",
       "      <td>True</td>\n",
       "      <td>False</td>\n",
       "      <td>2018.0</td>\n",
       "      <td>77.5</td>\n",
       "      <td>aug</td>\n",
       "      <td>40</td>\n",
       "      <td>15</td>\n",
       "      <td>-1</td>\n",
       "      <td>0</td>\n",
       "      <td>NaN</td>\n",
       "    </tr>\n",
       "    <tr>\n",
       "      <th>2</th>\n",
       "      <td>377.52</td>\n",
       "      <td>K</td>\n",
       "      <td>Low</td>\n",
       "      <td>OP-1</td>\n",
       "      <td>True</td>\n",
       "      <td>3787.38</td>\n",
       "      <td>True</td>\n",
       "      <td>True</td>\n",
       "      <td>NaN</td>\n",
       "      <td>15.5</td>\n",
       "      <td>jun</td>\n",
       "      <td>132</td>\n",
       "      <td>1</td>\n",
       "      <td>-1</td>\n",
       "      <td>0</td>\n",
       "      <td>NaN</td>\n",
       "    </tr>\n",
       "    <tr>\n",
       "      <th>3</th>\n",
       "      <td>232.32</td>\n",
       "      <td>H</td>\n",
       "      <td>Mid</td>\n",
       "      <td>OP-1</td>\n",
       "      <td>True</td>\n",
       "      <td>245.14</td>\n",
       "      <td>False</td>\n",
       "      <td>True</td>\n",
       "      <td>2018.0</td>\n",
       "      <td>62.0</td>\n",
       "      <td>nov</td>\n",
       "      <td>91</td>\n",
       "      <td>3</td>\n",
       "      <td>-1</td>\n",
       "      <td>0</td>\n",
       "      <td>NaN</td>\n",
       "    </tr>\n",
       "    <tr>\n",
       "      <th>4</th>\n",
       "      <td>239.58</td>\n",
       "      <td>K</td>\n",
       "      <td>Low</td>\n",
       "      <td>OP-4</td>\n",
       "      <td>True</td>\n",
       "      <td>108.12</td>\n",
       "      <td>False</td>\n",
       "      <td>True</td>\n",
       "      <td>2018.0</td>\n",
       "      <td>34.1</td>\n",
       "      <td>jul</td>\n",
       "      <td>260</td>\n",
       "      <td>2</td>\n",
       "      <td>-1</td>\n",
       "      <td>0</td>\n",
       "      <td>NaN</td>\n",
       "    </tr>\n",
       "  </tbody>\n",
       "</table>\n",
       "</div>"
      ],
      "text/plain": [
       "   Test_0 Test_1 Test_2 Test_3  Test_4   Test_5  Test_6  Test_7  Test_8  \\\n",
       "0  312.18      H   High   OP-1    True   244.88   False    True  2018.0   \n",
       "1  283.14      F    Mid  OP-17    True    42.34    True   False  2018.0   \n",
       "2  377.52      K    Low   OP-1    True  3787.38    True    True     NaN   \n",
       "3  232.32      H    Mid   OP-1    True   245.14   False    True  2018.0   \n",
       "4  239.58      K    Low   OP-4    True   108.12   False    True  2018.0   \n",
       "\n",
       "   Test_9 Test_10  Test_11  Test_12  Test_13  Test_14  Test_15  \n",
       "0    65.1     nov      585        4      191        4  TP-1549  \n",
       "1    77.5     aug       40       15       -1        0      NaN  \n",
       "2    15.5     jun      132        1       -1        0      NaN  \n",
       "3    62.0     nov       91        3       -1        0      NaN  \n",
       "4    34.1     jul      260        2       -1        0      NaN  "
      ]
     },
     "execution_count": 31,
     "metadata": {},
     "output_type": "execute_result"
    }
   ],
   "source": [
    "df_rma_test.head()"
   ]
  },
  {
   "cell_type": "markdown",
   "id": "increased-electron",
   "metadata": {
    "Collapsed": "false"
   },
   "source": [
    "As you can see there are 16 independent variables all 'Test_i' (i: 0-15) columns, and one variable is dependent, 'RMA' column.\n",
    "\n",
    "The purpose of the assignment is to predict the value of the 'RMA' variable according to the value of the other variables in the data. Please remember to use visualizations, explain the actions you perform by comments and show your workflow clearly.\n",
    "\n",
    "Note that the test-set has no labels. Your project is to build a machine learning model that will predict the labels for it."
   ]
  },
  {
   "cell_type": "markdown",
   "id": "white-granny",
   "metadata": {
    "Collapsed": "false"
   },
   "source": [
    "# Exploratory Data Analysis (EDA)"
   ]
  },
  {
   "cell_type": "markdown",
   "id": "comparative-station",
   "metadata": {
    "Collapsed": "false"
   },
   "source": [
    "## What is EDA? \n",
    "\n",
    "Exploratory Data Analysis: this is unavoidable and one of the major step to fine-tune the given data set(s) in a different form of analysis to understand the insights of the key characteristics of various entities of the data set like column(s), row(s) by applying Pandas, NumPy, Statistical Methods, and Data visualization packages. EDA process should make you familiar with your data set.\n",
    "\n",
    "- Outcome of this phase can be but not limited to:\n",
    "\n",
    "    - Dataset charechtaristics.\n",
    "    - Features relationship.\n",
    "    - Target ('RMA' column) insights. \n",
    "    - Human errors indentification.\n",
    "    - Outliers indentification.\n",
    "    \n",
    "**Goal of this phase is to implement EDA process for RMA data set**"
   ]
  },
  {
   "cell_type": "code",
   "execution_count": 5,
   "id": "animated-muscle",
   "metadata": {
    "Collapsed": "false"
   },
   "outputs": [],
   "source": [
    "### Your code here"
   ]
  },
  {
   "cell_type": "markdown",
   "id": "respected-juvenile",
   "metadata": {
    "Collapsed": "false"
   },
   "source": [
    "# Data pre-processing"
   ]
  },
  {
   "cell_type": "markdown",
   "id": "valid-phoenix",
   "metadata": {
    "Collapsed": "false"
   },
   "source": [
    "## Data preprocessing is a key step in Machine Learning Pipeline.\n",
    "\n",
    "Quality of data directly affects the ability of a model to learn useful information out of it.\n",
    "\n",
    "Therefore, it is extremely important that we preprocess our data before feeding it into a model.\n",
    "\n",
    "In this step use your conclusions from the previous phase in order to apply them to the data.\n",
    "\n",
    "\n",
    "- Outcome of this phase can be but not limited to:\n",
    "\n",
    "    - Handling Missing Values\n",
    "    - Data Normalization \n",
    "    \n",
    "**Goal of this phase is prepare RMA data set to be used in machine learning model**"
   ]
  },
  {
   "cell_type": "code",
   "execution_count": 6,
   "id": "suitable-atlanta",
   "metadata": {
    "Collapsed": "false"
   },
   "outputs": [],
   "source": [
    "### Your code here"
   ]
  },
  {
   "cell_type": "markdown",
   "id": "dirty-telling",
   "metadata": {
    "Collapsed": "false"
   },
   "source": [
    "# Build a ML/DL model"
   ]
  },
  {
   "cell_type": "markdown",
   "id": "fifth-polish",
   "metadata": {
    "Collapsed": "false",
    "tags": []
   },
   "source": [
    "Build any model/s you find useful to solve the task and evaluate its performance results.\n",
    "\n",
    "Use the metric f1 imported above and use it to measure the performance of your model.\n",
    "\n",
    "It is recommended to try different models and techniques and compare the\n",
    "\n",
    "- Outcome of this phase can be but not limited to:\n",
    "\n",
    "    - Train model/s on data set you prepared in previous phase\n",
    "    - Model/s results evaluation including perfomance metric/s results\n",
    "    - Hyper-parameters optimization\n",
    "    - Features selection\n",
    "    - Features engineering \n",
    "\n",
    "**Goal of this phase is to build model/s in iterative way until getting to the best results you can. what is \"best\" model is up to you to decide based on performance metric/s you chose to optimize**"
   ]
  },
  {
   "cell_type": "code",
   "execution_count": 7,
   "id": "sweet-effort",
   "metadata": {
    "Collapsed": "false"
   },
   "outputs": [],
   "source": [
    "### Your code here"
   ]
  },
  {
   "cell_type": "markdown",
   "id": "strange-advantage",
   "metadata": {
    "Collapsed": "false"
   },
   "source": [
    "# Model Interpretation"
   ]
  },
  {
   "cell_type": "markdown",
   "id": "difficult-gathering",
   "metadata": {
    "Collapsed": "false"
   },
   "source": [
    "**Here is the place to interpret your model**\n",
    "\n",
    "- Outcome of this phase can be but not limited to:\n",
    "\n",
    "    - Confusion Matrix\n",
    "    - Features Importance\n",
    "    - Business Insights\n",
    "\n",
    "**Goal of this phase is to interpret your best model/s you found in previous phase** "
   ]
  },
  {
   "cell_type": "code",
   "execution_count": 8,
   "id": "roman-puppy",
   "metadata": {
    "Collapsed": "false"
   },
   "outputs": [],
   "source": [
    "### Your code here"
   ]
  },
  {
   "cell_type": "markdown",
   "id": "narrow-chassis",
   "metadata": {
    "Collapsed": "false"
   },
   "source": [
    "# Something to think about:"
   ]
  },
  {
   "cell_type": "markdown",
   "id": "infrared-avatar",
   "metadata": {
    "Collapsed": "false"
   },
   "source": [
    "- Why is the selected metric f1_score?\n",
    "- Are there metrics that you think would better suit this problem or data?\n",
    "- What metrics are not appropriate for such a problem?"
   ]
  },
  {
   "cell_type": "markdown",
   "id": "about-salem",
   "metadata": {
    "Collapsed": "false"
   },
   "source": [
    "# Predict on the test and export the model"
   ]
  },
  {
   "cell_type": "code",
   "execution_count": null,
   "id": "hispanic-choice",
   "metadata": {
    "Collapsed": "false"
   },
   "outputs": [],
   "source": [
    "my_model = ...\n",
    "my_prediction = my_model.predict(df_rma_test)\n",
    "my_prediction.to_csv('my_prediction.csv', index = False)\n",
    "with open('my_model.pkl', 'wb') as f:\n",
    "    pickle.dump(my_model, f)"
   ]
  },
  {
   "cell_type": "markdown",
   "id": "genuine-conjunction",
   "metadata": {
    "Collapsed": "false"
   },
   "source": [
    "**You're done! Well done!**\n",
    "\n",
    "All that is left now is to pack your notebook, your model and your prediction in one zip file and send in a return email to the email through which you received the assignment."
   ]
  }
 ],
 "metadata": {
  "kernelspec": {
   "display_name": "Python 3",
   "language": "python",
   "name": "python3"
  },
  "language_info": {
   "codemirror_mode": {
    "name": "ipython",
    "version": 3
   },
   "file_extension": ".py",
   "mimetype": "text/x-python",
   "name": "python",
   "nbconvert_exporter": "python",
   "pygments_lexer": "ipython3",
   "version": "3.7.4"
  },
  "widgets": {
   "application/vnd.jupyter.widget-state+json": {
    "state": {},
    "version_major": 2,
    "version_minor": 0
   }
  }
 },
 "nbformat": 4,
 "nbformat_minor": 5
}

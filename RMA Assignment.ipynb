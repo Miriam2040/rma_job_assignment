{
 "cells": [
  {
   "cell_type": "markdown",
   "id": "religious-actor",
   "metadata": {
    "Collapsed": "false"
   },
   "source": [
    "# RMA (Return Merchandise Authorization) Prediction assignment"
   ]
  },
  {
   "cell_type": "markdown",
   "id": "elegant-heath",
   "metadata": {
    "Collapsed": "false",
    "tags": []
   },
   "source": [
    "**Welcome to 'RMA Prediction' assignment, Below is a brief background:**\n",
    "\n",
    "Return merchandise authorization (RMA) is the process of returning a product to receive a refund, replacement, or repair during the product's warranty period. \n",
    "\n",
    "In the chip manufacturing industry, in particular, the manufacturers have an interest in detect these units before it being shipped and reach the market for a few reasons:\n",
    "\n",
    "- The cost of a single unit during production is nil, compared to replacing an entire end device that causes several times more damage\n",
    "\n",
    "- The damage done to a company's reputation when a new device is returned as bad one can be very significant\n",
    "\n",
    "- A malfunctioning unit can cause significant damage (you don't want such bad unit placed in ABS system of your car :) )\n",
    "\n",
    "There are detailed test programs in which thousands of tests are performed on chips during production to ensure quality and prevent such cases.\n",
    "\n",
    "RMA units means units that have passed all test cycles properly, and yet have been found to be defective in the field.\n",
    "\n",
    "The manufacturers are aware that there are such units and their goal is to predict which units will be malfunctioning soon even though they now appear to be working properly. Once predicting such units, they will mark them as bad and not ship them to customers.\n",
    "\n",
    "This use case is called \"RMA Prediction\" and this is the challenge you are required to deal with in this assignment!\n",
    "\n",
    "**Technical notes:**\n",
    "\n",
    "- Please follow the steps in this notebook\n",
    "\n",
    "- Please write all your code inside this notebook only\n",
    "\n",
    "- Please feel free to add more cells as you need\n",
    "\n",
    "- The goal of this assigment is not only the best model:\n",
    "    - there is also value in clean code, and in orderly and clear work\n",
    "    - Use visualizations and comments on the reasons for the actions you take\n",
    "    - It is recommended to show in the notebook also experiments you tried along the way\n",
    "\n",
    "\n",
    "- Avoid over-fitting. \n",
    "\n",
    "    - Your prediction results will be tested on a test set that is not available to you\n",
    "\n",
    "\n",
    "Good Luck!"
   ]
  },
  {
   "cell_type": "markdown",
   "id": "basic-northeast",
   "metadata": {
    "Collapsed": "false"
   },
   "source": [
    "# Packages\n",
    "\n",
    "First, import all the packages you'll need during this assignment. You can finish successfully this assigment with these packages only but feel free to use more libraries if you find it helpful\n",
    "\n",
    "- [numpy](www.numpy.org) is the main package for scientific computing with Python.\n",
    "- [pandas](https://pandas.pydata.org/) is a fast, powerful, flexible and easy to use open source data analysis and manipulation tool.\n",
    "- [matplotlib](http://matplotlib.org) is a library to plot graphs in Python.\n",
    "- [sklearn](https://scikit-learn.org/stable/) is the most useful and robust library for machine learning in Python.\n",
    "- [f1_score](https://scikit-learn.org/stable/modules/generated/sklearn.metrics.f1_score.html) Is the metric you should use to evaluate the performance of your model.\n",
    "- [pickle](https://docs.python.org/3/library/pickle.html) is a library for serializing and de-serializing Python object structures, also called marshalling or flattening\n",
    "- np.random.seed(1) is used to keep all the random function calls consistent. It helps grade your work. Please don't change the seed! "
   ]
  },
  {
   "cell_type": "code",
   "execution_count": 9,
   "id": "thrown-dealer",
   "metadata": {
    "Collapsed": "false"
   },
   "outputs": [],
   "source": [
    "import pandas as pd\n",
    "import numpy as np\n",
    "import matplotlib.pyplot as plt\n",
    "import sklearn\n",
    "from sklearn.metrics import f1_score\n",
    "import pickle\n",
    "np.random.seed(seed=1)"
   ]
  },
  {
   "cell_type": "markdown",
   "id": "sudden-polymer",
   "metadata": {
    "Collapsed": "false"
   },
   "source": [
    "# Load The Data"
   ]
  },
  {
   "cell_type": "markdown",
   "id": "collective-norfolk",
   "metadata": {
    "Collapsed": "false"
   },
   "source": [
    "First, let's load the data:"
   ]
  },
  {
   "cell_type": "code",
   "execution_count": 21,
   "id": "illegal-country",
   "metadata": {
    "Collapsed": "false"
   },
   "outputs": [],
   "source": [
    "url_data_train = (r'https://raw.githubusercontent.com/NI-DS/rma_job_assignment/main/input/rma_train_data.csv')\n",
    "url_data_test = (r'https://raw.githubusercontent.com/NI-DS/rma_job_assignment/main/input/rma_test_data.csv')\n",
    "df_rma_train, df_rma_test = pd.read_csv(url_data_train), pd.read_csv(url_data_test)"
   ]
  },
  {
   "cell_type": "markdown",
   "id": "identified-wells",
   "metadata": {
    "Collapsed": "false"
   },
   "source": [
    "We will now examine the dimensions of the data:"
   ]
  },
  {
   "cell_type": "code",
   "execution_count": 22,
   "id": "planned-perception",
   "metadata": {
    "Collapsed": "false"
   },
   "outputs": [
    {
     "data": {
      "text/plain": [
       "((3616, 17), (905, 17))"
      ]
     },
     "execution_count": 22,
     "metadata": {},
     "output_type": "execute_result"
    }
   ],
   "source": [
    "df_rma_train.shape, df_rma_test.shape"
   ]
  },
  {
   "cell_type": "markdown",
   "id": "thorough-thunder",
   "metadata": {
    "Collapsed": "false"
   },
   "source": [
    "We will now print the first five rows of the DataFrame to see the values of the data."
   ]
  },
  {
   "cell_type": "code",
   "execution_count": 23,
   "id": "saving-claim",
   "metadata": {
    "Collapsed": "false"
   },
   "outputs": [
    {
     "data": {
      "text/html": [
       "<div>\n",
       "<style scoped>\n",
       "    .dataframe tbody tr th:only-of-type {\n",
       "        vertical-align: middle;\n",
       "    }\n",
       "\n",
       "    .dataframe tbody tr th {\n",
       "        vertical-align: top;\n",
       "    }\n",
       "\n",
       "    .dataframe thead th {\n",
       "        text-align: right;\n",
       "    }\n",
       "</style>\n",
       "<table border=\"1\" class=\"dataframe\">\n",
       "  <thead>\n",
       "    <tr style=\"text-align: right;\">\n",
       "      <th></th>\n",
       "      <th>Test_0</th>\n",
       "      <th>Test_1</th>\n",
       "      <th>Test_2</th>\n",
       "      <th>Test_3</th>\n",
       "      <th>Test_4</th>\n",
       "      <th>Test_5</th>\n",
       "      <th>Test_6</th>\n",
       "      <th>Test_7</th>\n",
       "      <th>Test_8</th>\n",
       "      <th>Test_9</th>\n",
       "      <th>Test_10</th>\n",
       "      <th>Test_11</th>\n",
       "      <th>Test_12</th>\n",
       "      <th>Test_13</th>\n",
       "      <th>Test_14</th>\n",
       "      <th>Test_15</th>\n",
       "      <th>RMA</th>\n",
       "    </tr>\n",
       "  </thead>\n",
       "  <tbody>\n",
       "    <tr>\n",
       "      <th>0</th>\n",
       "      <td>312.18</td>\n",
       "      <td>H</td>\n",
       "      <td>High</td>\n",
       "      <td>OP-1</td>\n",
       "      <td>True</td>\n",
       "      <td>244.88</td>\n",
       "      <td>False</td>\n",
       "      <td>True</td>\n",
       "      <td>2018.0</td>\n",
       "      <td>65.1</td>\n",
       "      <td>nov</td>\n",
       "      <td>585</td>\n",
       "      <td>4</td>\n",
       "      <td>191</td>\n",
       "      <td>4</td>\n",
       "      <td>TP-1549</td>\n",
       "      <td>False</td>\n",
       "    </tr>\n",
       "    <tr>\n",
       "      <th>1</th>\n",
       "      <td>283.14</td>\n",
       "      <td>F</td>\n",
       "      <td>Mid</td>\n",
       "      <td>OP-17</td>\n",
       "      <td>True</td>\n",
       "      <td>42.34</td>\n",
       "      <td>True</td>\n",
       "      <td>False</td>\n",
       "      <td>2018.0</td>\n",
       "      <td>77.5</td>\n",
       "      <td>aug</td>\n",
       "      <td>40</td>\n",
       "      <td>15</td>\n",
       "      <td>-1</td>\n",
       "      <td>0</td>\n",
       "      <td>NaN</td>\n",
       "      <td>False</td>\n",
       "    </tr>\n",
       "    <tr>\n",
       "      <th>2</th>\n",
       "      <td>377.52</td>\n",
       "      <td>K</td>\n",
       "      <td>Low</td>\n",
       "      <td>OP-1</td>\n",
       "      <td>True</td>\n",
       "      <td>3787.38</td>\n",
       "      <td>True</td>\n",
       "      <td>True</td>\n",
       "      <td>NaN</td>\n",
       "      <td>15.5</td>\n",
       "      <td>jun</td>\n",
       "      <td>132</td>\n",
       "      <td>1</td>\n",
       "      <td>-1</td>\n",
       "      <td>0</td>\n",
       "      <td>NaN</td>\n",
       "      <td>False</td>\n",
       "    </tr>\n",
       "    <tr>\n",
       "      <th>3</th>\n",
       "      <td>232.32</td>\n",
       "      <td>H</td>\n",
       "      <td>Mid</td>\n",
       "      <td>OP-1</td>\n",
       "      <td>True</td>\n",
       "      <td>245.14</td>\n",
       "      <td>False</td>\n",
       "      <td>True</td>\n",
       "      <td>2018.0</td>\n",
       "      <td>62.0</td>\n",
       "      <td>nov</td>\n",
       "      <td>91</td>\n",
       "      <td>3</td>\n",
       "      <td>-1</td>\n",
       "      <td>0</td>\n",
       "      <td>NaN</td>\n",
       "      <td>False</td>\n",
       "    </tr>\n",
       "    <tr>\n",
       "      <th>4</th>\n",
       "      <td>239.58</td>\n",
       "      <td>K</td>\n",
       "      <td>Low</td>\n",
       "      <td>OP-4</td>\n",
       "      <td>True</td>\n",
       "      <td>108.12</td>\n",
       "      <td>False</td>\n",
       "      <td>True</td>\n",
       "      <td>2018.0</td>\n",
       "      <td>34.1</td>\n",
       "      <td>jul</td>\n",
       "      <td>260</td>\n",
       "      <td>2</td>\n",
       "      <td>-1</td>\n",
       "      <td>0</td>\n",
       "      <td>NaN</td>\n",
       "      <td>False</td>\n",
       "    </tr>\n",
       "  </tbody>\n",
       "</table>\n",
       "</div>"
      ],
      "text/plain": [
       "   Test_0 Test_1 Test_2 Test_3  Test_4   Test_5  Test_6  Test_7  Test_8  \\\n",
       "0  312.18      H   High   OP-1    True   244.88   False    True  2018.0   \n",
       "1  283.14      F    Mid  OP-17    True    42.34    True   False  2018.0   \n",
       "2  377.52      K    Low   OP-1    True  3787.38    True    True     NaN   \n",
       "3  232.32      H    Mid   OP-1    True   245.14   False    True  2018.0   \n",
       "4  239.58      K    Low   OP-4    True   108.12   False    True  2018.0   \n",
       "\n",
       "   Test_9 Test_10  Test_11  Test_12  Test_13  Test_14  Test_15    RMA  \n",
       "0    65.1     nov      585        4      191        4  TP-1549  False  \n",
       "1    77.5     aug       40       15       -1        0      NaN  False  \n",
       "2    15.5     jun      132        1       -1        0      NaN  False  \n",
       "3    62.0     nov       91        3       -1        0      NaN  False  \n",
       "4    34.1     jul      260        2       -1        0      NaN  False  "
      ]
     },
     "execution_count": 23,
     "metadata": {},
     "output_type": "execute_result"
    }
   ],
   "source": [
    "df_rma_test.head()"
   ]
  },
  {
   "cell_type": "markdown",
   "id": "bored-planning",
   "metadata": {
    "Collapsed": "false"
   },
   "source": [
    "As you can see there are 16 independent variables all 'Test_i' (i: 0-15) columns, and one variable is dependent, 'RMA' column\n",
    "\n",
    "The purpose of the assignment is to predict the value of the 'RMA' variable according to the value of the other variables in the data. Please remember to use visualizations, explain the actions you perform by comments and show your workflow clearly."
   ]
  },
  {
   "cell_type": "markdown",
   "id": "daily-point",
   "metadata": {
    "Collapsed": "false"
   },
   "source": [
    "# Exploratory Data Analysis (EDA)"
   ]
  },
  {
   "cell_type": "markdown",
   "id": "subjective-sound",
   "metadata": {
    "Collapsed": "false"
   },
   "source": [
    "## What is EDA? \n",
    "\n",
    "Exploratory Data Analysis: this is unavoidable and one of the major step to fine-tune the given data set(s) in a different form of analysis to understand the insights of the key characteristics of various entities of the data set like column(s), row(s) by applying Pandas, NumPy, Statistical Methods, and Data visualization packages. EDA process should make you familiar with your data set.\n",
    "\n",
    "- Outcome of this phase can be but not limited to:\n",
    "\n",
    "    - Dataset charechtaristics.\n",
    "    - Features relationship.\n",
    "    - Target ('RMA' column) insights. \n",
    "    - Human errors indentification.\n",
    "    - Outliers indentification.\n",
    "    \n",
    "**Goal of this phase is to implement EDA process for RMA data set**"
   ]
  },
  {
   "cell_type": "code",
   "execution_count": 5,
   "id": "relevant-hearts",
   "metadata": {
    "Collapsed": "false"
   },
   "outputs": [],
   "source": [
    "### Your code here"
   ]
  },
  {
   "cell_type": "markdown",
   "id": "soviet-gambling",
   "metadata": {
    "Collapsed": "false"
   },
   "source": [
    "# Data pre-processing"
   ]
  },
  {
   "cell_type": "markdown",
   "id": "sticky-pillow",
   "metadata": {
    "Collapsed": "false"
   },
   "source": [
    "## Data preprocessing is a key step in Machine Learning Pipeline.\n",
    "\n",
    "Quality of data directly affects the ability of a model to learn useful information out of it.\n",
    "\n",
    "Therefore, it is extremely important that we preprocess our data before feeding it into a model.\n",
    "\n",
    "In this step use your conclusions from the previous phase in order to apply them to the data.\n",
    "\n",
    "\n",
    "- Outcome of this phase can be but not limited to:\n",
    "\n",
    "    - Handling Missing Values\n",
    "    - Data Normalization \n",
    "    \n",
    "**Goal of this phase is prepare RMA data set to be used in machine learning model**"
   ]
  },
  {
   "cell_type": "code",
   "execution_count": 6,
   "id": "active-landing",
   "metadata": {
    "Collapsed": "false"
   },
   "outputs": [],
   "source": [
    "### Your code here"
   ]
  },
  {
   "cell_type": "markdown",
   "id": "federal-picture",
   "metadata": {
    "Collapsed": "false"
   },
   "source": [
    "# Build a ML/DL model"
   ]
  },
  {
   "cell_type": "markdown",
   "id": "referenced-debut",
   "metadata": {
    "Collapsed": "false",
    "tags": []
   },
   "source": [
    "Build any model/s you find useful to solve the task and evaluate its performance results.\n",
    "\n",
    "Use the metric f1 imported above and use it to measure the performance of your model.\n",
    "\n",
    "It is recommended to try different models and techniques and compare the\n",
    "\n",
    "- Outcome of this phase can be but not limited to:\n",
    "\n",
    "    - Train model/s on data set you prepared in previous phase\n",
    "    - Model/s results evaluation including perfomance metric/s results\n",
    "    - Hyper-parameters optimization\n",
    "    - Features selection\n",
    "    - Features engineering \n",
    "\n",
    "**Goal of this phase is to build model/s in iterative way until getting to the best results you can. what is \"best\" model is up to you to decide based on performance metric/s you chose to optimize**"
   ]
  },
  {
   "cell_type": "code",
   "execution_count": 7,
   "id": "compound-north",
   "metadata": {
    "Collapsed": "false"
   },
   "outputs": [],
   "source": [
    "### Your code here"
   ]
  },
  {
   "cell_type": "markdown",
   "id": "dental-richards",
   "metadata": {
    "Collapsed": "false"
   },
   "source": [
    "# Model Interpretation"
   ]
  },
  {
   "cell_type": "markdown",
   "id": "accepted-paragraph",
   "metadata": {
    "Collapsed": "false"
   },
   "source": [
    "**Here is the place to interpret your model**\n",
    "\n",
    "- Outcome of this phase can be but not limited to:\n",
    "\n",
    "    - Confusion Matrix\n",
    "    - Features Importance\n",
    "    - Business Insights\n",
    "\n",
    "**Goal of this phase is to interpret your best model/s you found in previous phase** "
   ]
  },
  {
   "cell_type": "code",
   "execution_count": 8,
   "id": "corporate-trailer",
   "metadata": {
    "Collapsed": "false"
   },
   "outputs": [],
   "source": [
    "### Your code here"
   ]
  },
  {
   "cell_type": "markdown",
   "id": "nonprofit-surge",
   "metadata": {
    "Collapsed": "false"
   },
   "source": [
    "# Export the model"
   ]
  },
  {
   "cell_type": "code",
   "execution_count": null,
   "id": "generous-heath",
   "metadata": {
    "Collapsed": "false"
   },
   "outputs": [],
   "source": [
    "my_model = ...\n",
    "with open('my_model.pkl', 'wb') as f:\n",
    "    pickle.dump(my_model, f)"
   ]
  },
  {
   "cell_type": "markdown",
   "id": "confidential-witness",
   "metadata": {
    "Collapsed": "false"
   },
   "source": [
    "**You're done! Well done!**\n",
    "\n",
    "All that is left now is to pack your notebook and model in a zip file and send in a return email to the email through which you received the assignment."
   ]
  },
  {
   "cell_type": "code",
   "execution_count": null,
   "id": "iraqi-stations",
   "metadata": {
    "Collapsed": "false"
   },
   "outputs": [],
   "source": []
  }
 ],
 "metadata": {
  "kernelspec": {
   "display_name": "Python 3",
   "language": "python",
   "name": "python3"
  },
  "language_info": {
   "codemirror_mode": {
    "name": "ipython",
    "version": 3
   },
   "file_extension": ".py",
   "mimetype": "text/x-python",
   "name": "python",
   "nbconvert_exporter": "python",
   "pygments_lexer": "ipython3",
   "version": "3.7.4"
  },
  "widgets": {
   "application/vnd.jupyter.widget-state+json": {
    "state": {},
    "version_major": 2,
    "version_minor": 0
   }
  }
 },
 "nbformat": 4,
 "nbformat_minor": 5
}

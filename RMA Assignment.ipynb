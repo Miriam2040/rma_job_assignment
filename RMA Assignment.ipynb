{
 "cells": [
  {
   "cell_type": "markdown",
   "id": "silver-medline",
   "metadata": {
    "Collapsed": "false",
    "tags": []
   },
   "source": [
    "# RMA (Return Merchandise Authorization) Prediction assignment"
   ]
  },
  {
   "cell_type": "markdown",
   "id": "essential-alfred",
   "metadata": {
    "Collapsed": "false",
    "tags": []
   },
   "source": [
    "**Welcome to 'RMA Prediction' assignment, Below is a brief background:**\n",
    "\n",
    "Return merchandise authorization (RMA) is the process of returning a product to receive a refund, replacement, or repair during the product's warranty period. \n",
    "\n",
    "In the chip manufacturing industry, in particular, the manufacturers have an interest in detect these units before it being shipped and reach the market for a few reasons:\n",
    "\n",
    "- The cost of a single unit during production is nil, compared to replacing an entire end device that causes several times more damage\n",
    "\n",
    "- The damage done to a company's reputation when a new device is returned as bad one can be very significant\n",
    "\n",
    "- A malfunctioning unit can cause significant damage (you don't want such bad unit placed in ABS system of your car :) )\n",
    "\n",
    "There are detailed test programs in which thousands of tests are performed on chips during production to ensure quality and prevent such cases.\n",
    "\n",
    "RMA units means units that have passed all test cycles properly, and yet have been found to be defective in the field.\n",
    "\n",
    "The manufacturers are aware that there are such units and their goal is to predict which units will be malfunctioning soon even though they now appear to be working properly. Once predicting such units, they will mark them as bad and not ship them to customers.\n",
    "\n",
    "This use case is called \"RMA Prediction\" and this is the challenge you are required to deal with in this assignment!\n",
    "\n",
    "**Technical notes:**\n",
    "\n",
    "- Please follow the steps in this notebook\n",
    "\n",
    "- Please write all your code inside this notebook only\n",
    "\n",
    "- Please feel free to add more cells as you need\n",
    "\n",
    "- The goal of this assigment is not only the best model:\n",
    "    - there is also value in clean code, and in orderly and clear work\n",
    "    - Use visualizations and comments on the reasons for the actions you take\n",
    "    - It is recommended to show in the notebook also experiments you tried along the way\n",
    "\n",
    "\n",
    "- Avoid over-fitting. \n",
    "\n",
    "    - Your prediction results will be tested on a test set that is not available to you\n",
    "\n",
    "\n",
    "Good Luck!"
   ]
  },
  {
   "cell_type": "markdown",
   "id": "living-marks",
   "metadata": {
    "Collapsed": "false"
   },
   "source": [
    "# Packages\n",
    "\n",
    "First, import all the packages you'll need during this assignment. You can finish successfully this assigment with these packages only but feel free to use more libraries if you find it helpful\n",
    "\n",
    "- [numpy](www.numpy.org) is the main package for scientific computing with Python.\n",
    "- [pandas](https://pandas.pydata.org/) is a fast, powerful, flexible and easy to use open source data analysis and manipulation tool.\n",
    "- [matplotlib](http://matplotlib.org) is a library to plot graphs in Python.\n",
    "- [sklearn](https://scikit-learn.org/stable/) is the most useful and robust library for machine learning in Python.\n",
    "- [pickle](https://docs.python.org/3/library/pickle.html) is a library for serializing and de-serializing Python object structures, also called marshalling or flattening\n",
    "- np.random.seed(1) is used to keep all the random function calls consistent. It helps grade your work. Please don't change the seed! "
   ]
  },
  {
   "cell_type": "code",
   "execution_count": 1,
   "id": "controlling-packaging",
   "metadata": {
    "Collapsed": "false"
   },
   "outputs": [],
   "source": [
    "import pandas as pd\n",
    "import numpy as np\n",
    "import matplotlib.pyplot as plt\n",
    "import sklearn\n",
    "from sklearn import metrics\n",
    "np.random.seed(seed=1)"
   ]
  },
  {
   "cell_type": "markdown",
   "id": "starting-maximum",
   "metadata": {
    "Collapsed": "false"
   },
   "source": [
    "## The Mertic\n",
    "\n",
    "First, we will define a positive result as a unit pretict RMA (RMA = True)\n",
    "\n",
    "Because of the reasons listed above, in an RMA prediction problem, it is easier to get a false negative (predicting a normal unit as faulty) because it causes small damage to the company, than get a false positive (predicting a faulty unit as normal) because it causes large damage to the company as described above.\n",
    "\n",
    "<img src=\"images/tp_fn.png\" style=\"width:1000px;height:500px\">\n",
    "\n",
    "**Precision and Recall** \n",
    "\n",
    "Precision and Recall are metrics that deal with false positive errors (the relevant part):\n",
    "\n",
    " - Precision (also called positive predictive value) is the fraction of relevant instances among the retrieved instances. (in our case, the percent of units that are RMA out of the total RMA predictions of the model)\n",
    "\n",
    "<img src=\"images/precision.png\">\n",
    "\n",
    "- Recall (also known as sensitivity) is the fraction of relevant instances that were retrieved. (In our case, the percentage of RMA units thet correctly classified out of all the units that are RMA)\n",
    "\n",
    "<img src=\"images/recall.png\">\n",
    "\n",
    "As described above, in our case, the recall score is more important from the precision.\n",
    "\n",
    "The 'F score' gives a weighted score to these two metrics:\n",
    "\n",
    "<img src=\"images/fbeta.png\">\n",
    "\n",
    "When a beta is equal to 1, these two metrics get an equal weight (and this is a metric f1).\n",
    "\n",
    "In this prediction assignment, we will use the f2 metric to give the recall twice the weight of the precision."
   ]
  },
  {
   "cell_type": "code",
   "execution_count": 2,
   "id": "quantitative-stretch",
   "metadata": {
    "Collapsed": "false"
   },
   "outputs": [],
   "source": [
    "def f2_score(y_true, y_pred):\n",
    "    return metrics.fbeta_score(y_true, y_pred, beta = 2)"
   ]
  },
  {
   "cell_type": "markdown",
   "id": "national-repository",
   "metadata": {
    "Collapsed": "false"
   },
   "source": [
    "**Here are some examples of how the metric f2_score behaves:**\n",
    "\n",
    "Suppose we have a series of labels with a 1000 rows as follows:"
   ]
  },
  {
   "cell_type": "code",
   "execution_count": 3,
   "id": "indonesian-screw",
   "metadata": {
    "Collapsed": "false"
   },
   "outputs": [],
   "source": [
    "y = (np.random.rand(1000) > 0.5).astype(int)"
   ]
  },
  {
   "cell_type": "markdown",
   "id": "strategic-requirement",
   "metadata": {
    "Collapsed": "false"
   },
   "source": [
    "We will set y_pred to be a series of 1000 positive instances:"
   ]
  },
  {
   "cell_type": "code",
   "execution_count": 4,
   "id": "motivated-renewal",
   "metadata": {
    "Collapsed": "false"
   },
   "outputs": [],
   "source": [
    "y_pred = np.ones(1000).astype(int)"
   ]
  },
  {
   "cell_type": "markdown",
   "id": "municipal-explanation",
   "metadata": {
    "Collapsed": "false"
   },
   "source": [
    "We will examine the results of the metrics described above:"
   ]
  },
  {
   "cell_type": "code",
   "execution_count": 5,
   "id": "respective-christian",
   "metadata": {
    "Collapsed": "false"
   },
   "outputs": [
    {
     "name": "stdout",
     "output_type": "stream",
     "text": [
      "Recall score is: 1.0, Precision score is: 0.506, F1 score is: 0.6719787516600265, F2 score is: 0.8366402116402117\n"
     ]
    }
   ],
   "source": [
    "print(f\"Recall score is: {metrics.recall_score(y,y_pred)}, Precision score is: {metrics.precision_score(y,y_pred)}, F1 score is: {metrics.f1_score(y,y_pred)}, F2 score is: {f2_score(y,y_pred)}\")"
   ]
  },
  {
   "cell_type": "markdown",
   "id": "forbidden-guinea",
   "metadata": {
    "Collapsed": "false"
   },
   "source": [
    "We can see that:\n",
    "- Recall: 1.0, because we did not miss any positive instance.\n",
    "- Precision : ~0.5, Because out of all the positive predictions, we were only right in ~half of the cases.\n",
    "- It can therefore be seen that a score of f2 that gives double weight to the recall gets a score higher than f1"
   ]
  },
  {
   "cell_type": "markdown",
   "id": "virtual-craps",
   "metadata": {
    "Collapsed": "false"
   },
   "source": [
    "# Load The Data"
   ]
  },
  {
   "cell_type": "markdown",
   "id": "mighty-freight",
   "metadata": {
    "Collapsed": "false"
   },
   "source": [
    "First, load the data from the CSV file into the assignment folder."
   ]
  },
  {
   "cell_type": "code",
   "execution_count": 7,
   "id": "equipped-railway",
   "metadata": {
    "Collapsed": "false"
   },
   "outputs": [],
   "source": [
    "df_rma = pd.read_csv('input/rma_data.csv')"
   ]
  },
  {
   "cell_type": "markdown",
   "id": "skilled-topic",
   "metadata": {
    "Collapsed": "false"
   },
   "source": [
    "We will now examine the dimensions of the data:"
   ]
  },
  {
   "cell_type": "code",
   "execution_count": 8,
   "id": "miniature-compromise",
   "metadata": {
    "Collapsed": "false"
   },
   "outputs": [
    {
     "data": {
      "text/plain": [
       "(3616, 17)"
      ]
     },
     "execution_count": 8,
     "metadata": {},
     "output_type": "execute_result"
    }
   ],
   "source": [
    "df_rma.shape"
   ]
  },
  {
   "cell_type": "markdown",
   "id": "constant-place",
   "metadata": {
    "Collapsed": "false"
   },
   "source": [
    "We will now print the first five rows of the DataFrame to see the values of the data."
   ]
  },
  {
   "cell_type": "code",
   "execution_count": 9,
   "id": "mysterious-bride",
   "metadata": {
    "Collapsed": "false"
   },
   "outputs": [
    {
     "data": {
      "text/html": [
       "<div>\n",
       "<style scoped>\n",
       "    .dataframe tbody tr th:only-of-type {\n",
       "        vertical-align: middle;\n",
       "    }\n",
       "\n",
       "    .dataframe tbody tr th {\n",
       "        vertical-align: top;\n",
       "    }\n",
       "\n",
       "    .dataframe thead th {\n",
       "        text-align: right;\n",
       "    }\n",
       "</style>\n",
       "<table border=\"1\" class=\"dataframe\">\n",
       "  <thead>\n",
       "    <tr style=\"text-align: right;\">\n",
       "      <th></th>\n",
       "      <th>Test_0</th>\n",
       "      <th>Test_1</th>\n",
       "      <th>Test_2</th>\n",
       "      <th>Test_3</th>\n",
       "      <th>Test_4</th>\n",
       "      <th>Test_5</th>\n",
       "      <th>Test_6</th>\n",
       "      <th>Test_7</th>\n",
       "      <th>Test_8</th>\n",
       "      <th>Test_9</th>\n",
       "      <th>Test_10</th>\n",
       "      <th>Test_11</th>\n",
       "      <th>Test_12</th>\n",
       "      <th>Test_13</th>\n",
       "      <th>Test_14</th>\n",
       "      <th>Test_15</th>\n",
       "      <th>RMA</th>\n",
       "    </tr>\n",
       "  </thead>\n",
       "  <tbody>\n",
       "    <tr>\n",
       "      <th>0</th>\n",
       "      <td>217.80</td>\n",
       "      <td>B</td>\n",
       "      <td>Low</td>\n",
       "      <td>OP-1</td>\n",
       "      <td>True</td>\n",
       "      <td>506.18</td>\n",
       "      <td>False</td>\n",
       "      <td>True</td>\n",
       "      <td>2018.0</td>\n",
       "      <td>15.5</td>\n",
       "      <td>feb</td>\n",
       "      <td>192</td>\n",
       "      <td>4</td>\n",
       "      <td>-1</td>\n",
       "      <td>0</td>\n",
       "      <td>NaN</td>\n",
       "      <td>False</td>\n",
       "    </tr>\n",
       "    <tr>\n",
       "      <th>1</th>\n",
       "      <td>239.58</td>\n",
       "      <td>D</td>\n",
       "      <td>Low</td>\n",
       "      <td>OP-1</td>\n",
       "      <td>True</td>\n",
       "      <td>32.98</td>\n",
       "      <td>False</td>\n",
       "      <td>True</td>\n",
       "      <td>2018.0</td>\n",
       "      <td>86.8</td>\n",
       "      <td>jul</td>\n",
       "      <td>151</td>\n",
       "      <td>3</td>\n",
       "      <td>-1</td>\n",
       "      <td>0</td>\n",
       "      <td>NaN</td>\n",
       "      <td>False</td>\n",
       "    </tr>\n",
       "    <tr>\n",
       "      <th>2</th>\n",
       "      <td>225.06</td>\n",
       "      <td>H</td>\n",
       "      <td>Low</td>\n",
       "      <td>OP-1</td>\n",
       "      <td>True</td>\n",
       "      <td>134.64</td>\n",
       "      <td>False</td>\n",
       "      <td>True</td>\n",
       "      <td>2018.0</td>\n",
       "      <td>52.7</td>\n",
       "      <td>apr</td>\n",
       "      <td>279</td>\n",
       "      <td>1</td>\n",
       "      <td>-1</td>\n",
       "      <td>0</td>\n",
       "      <td>NaN</td>\n",
       "      <td>False</td>\n",
       "    </tr>\n",
       "    <tr>\n",
       "      <th>3</th>\n",
       "      <td>217.80</td>\n",
       "      <td>F</td>\n",
       "      <td>Mid</td>\n",
       "      <td>OP-17</td>\n",
       "      <td>True</td>\n",
       "      <td>260.74</td>\n",
       "      <td>False</td>\n",
       "      <td>False</td>\n",
       "      <td>NaN</td>\n",
       "      <td>18.6</td>\n",
       "      <td>jun</td>\n",
       "      <td>91</td>\n",
       "      <td>18</td>\n",
       "      <td>-1</td>\n",
       "      <td>0</td>\n",
       "      <td>NaN</td>\n",
       "      <td>False</td>\n",
       "    </tr>\n",
       "    <tr>\n",
       "      <th>4</th>\n",
       "      <td>283.14</td>\n",
       "      <td>B</td>\n",
       "      <td>High</td>\n",
       "      <td>OP-1</td>\n",
       "      <td>True</td>\n",
       "      <td>231.62</td>\n",
       "      <td>False</td>\n",
       "      <td>True</td>\n",
       "      <td>2018.0</td>\n",
       "      <td>27.9</td>\n",
       "      <td>jul</td>\n",
       "      <td>869</td>\n",
       "      <td>1</td>\n",
       "      <td>-1</td>\n",
       "      <td>0</td>\n",
       "      <td>NaN</td>\n",
       "      <td>True</td>\n",
       "    </tr>\n",
       "  </tbody>\n",
       "</table>\n",
       "</div>"
      ],
      "text/plain": [
       "   Test_0 Test_1 Test_2 Test_3  Test_4  Test_5  Test_6  Test_7  Test_8  \\\n",
       "0  217.80      B    Low   OP-1    True  506.18   False    True  2018.0   \n",
       "1  239.58      D    Low   OP-1    True   32.98   False    True  2018.0   \n",
       "2  225.06      H    Low   OP-1    True  134.64   False    True  2018.0   \n",
       "3  217.80      F    Mid  OP-17    True  260.74   False   False     NaN   \n",
       "4  283.14      B   High   OP-1    True  231.62   False    True  2018.0   \n",
       "\n",
       "   Test_9 Test_10  Test_11  Test_12  Test_13  Test_14 Test_15    RMA  \n",
       "0    15.5     feb      192        4       -1        0     NaN  False  \n",
       "1    86.8     jul      151        3       -1        0     NaN  False  \n",
       "2    52.7     apr      279        1       -1        0     NaN  False  \n",
       "3    18.6     jun       91       18       -1        0     NaN  False  \n",
       "4    27.9     jul      869        1       -1        0     NaN   True  "
      ]
     },
     "execution_count": 9,
     "metadata": {},
     "output_type": "execute_result"
    }
   ],
   "source": [
    "df_rma.head()"
   ]
  },
  {
   "cell_type": "markdown",
   "id": "czech-discussion",
   "metadata": {
    "Collapsed": "false"
   },
   "source": [
    "As you can see there are 16 independent variables all 'Test_i' (i: 0-15) columns, and one variable is dependent, 'RMA' column\n",
    "\n",
    "The purpose of the assignment is to predict the value of the 'RMA' variable according to the value of the other variables in the data. Please remember to use visualizations, explain the actions you perform by comments and show your workflow clearly."
   ]
  },
  {
   "cell_type": "markdown",
   "id": "existing-gathering",
   "metadata": {
    "Collapsed": "false"
   },
   "source": [
    "# Exploratory Data Analysis (EDA)"
   ]
  },
  {
   "cell_type": "markdown",
   "id": "industrial-flooring",
   "metadata": {
    "Collapsed": "false"
   },
   "source": [
    "## What is EDA? \n",
    "\n",
    "Exploratory Data Analysis: this is unavoidable and one of the major step to fine-tune the given data set(s) in a different form of analysis to understand the insights of the key characteristics of various entities of the data set like column(s), row(s) by applying Pandas, NumPy, Statistical Methods, and Data visualization packages. EDA process should make you familiar with your data set.\n",
    "\n",
    "- Outcome of this phase can be but not limited to:\n",
    "\n",
    "    - Dataset charechtaristics.\n",
    "    - Features relationship.\n",
    "    - Target ('RMA' column) insights. \n",
    "    - Human errors indentification.\n",
    "    - Outliers indentification.\n",
    "    \n",
    "**Goal of this phase is to implement EDA process for RMA data set**"
   ]
  },
  {
   "cell_type": "code",
   "execution_count": 10,
   "id": "swiss-trauma",
   "metadata": {
    "Collapsed": "false"
   },
   "outputs": [],
   "source": [
    "### Your code here"
   ]
  },
  {
   "cell_type": "markdown",
   "id": "dirty-soccer",
   "metadata": {
    "Collapsed": "false"
   },
   "source": [
    "# Data pre-processing"
   ]
  },
  {
   "cell_type": "markdown",
   "id": "sixth-excitement",
   "metadata": {
    "Collapsed": "false"
   },
   "source": [
    "## Data preprocessing is a key step in Machine Learning Pipeline.\n",
    "\n",
    "Quality of data directly affects the ability of a model to learn useful information out of it.\n",
    "\n",
    "Therefore, it is extremely important that we preprocess our data before feeding it into a model.\n",
    "\n",
    "In this step use your conclusions from the previous phase in order to apply them to the data.\n",
    "\n",
    "\n",
    "- Outcome of this phase can be but not limited to:\n",
    "\n",
    "    - Handling Missing Values\n",
    "    - Data Normalization \n",
    "    \n",
    "**Goal of this phase is prepare RMA data set to be used in machine learning model**"
   ]
  },
  {
   "cell_type": "code",
   "execution_count": 11,
   "id": "lasting-illustration",
   "metadata": {
    "Collapsed": "false"
   },
   "outputs": [],
   "source": [
    "### Your code here"
   ]
  },
  {
   "cell_type": "markdown",
   "id": "personalized-illness",
   "metadata": {
    "Collapsed": "false"
   },
   "source": [
    "# Build a ML/DL model"
   ]
  },
  {
   "cell_type": "markdown",
   "id": "confused-benefit",
   "metadata": {
    "Collapsed": "false",
    "tags": []
   },
   "source": [
    "**Build any model/s you think fits the problem, and validate the results on the f2 metric** \n",
    "\n",
    "It is recommended to try different models and techniques and compare their results.\n",
    "\n",
    "- Outcome of this phase can be but not limited to:\n",
    "\n",
    "    - Train model/s on data set you prepared in previous phase\n",
    "    - Model/s results evaluation including perfomance metric/s results\n",
    "    - Hyper-parameters optimization\n",
    "    - Features selection\n",
    "    - Features engineering \n",
    "\n",
    "**Goal of this phase is to build model/s in iterative way until getting to the best results you can. what is \"best\" model is up to you to decide based on performance metric/s you chose to optimize**"
   ]
  },
  {
   "cell_type": "code",
   "execution_count": 12,
   "id": "behavioral-bahamas",
   "metadata": {
    "Collapsed": "false"
   },
   "outputs": [],
   "source": [
    "### Your code here"
   ]
  },
  {
   "cell_type": "markdown",
   "id": "medium-county",
   "metadata": {
    "Collapsed": "false"
   },
   "source": [
    "# Model Interpretation"
   ]
  },
  {
   "cell_type": "markdown",
   "id": "killing-sterling",
   "metadata": {
    "Collapsed": "false"
   },
   "source": [
    "**Here is the place to interpret your model**\n",
    "\n",
    "- Outcome of this phase can be but not limited to:\n",
    "\n",
    "    - Confusion Matrix\n",
    "    - Features Importance\n",
    "    - Business Insights\n",
    "\n",
    "**Goal of this phase is to interpret your best model/s you found in previous phase** "
   ]
  },
  {
   "cell_type": "code",
   "execution_count": 13,
   "id": "swiss-synthetic",
   "metadata": {
    "Collapsed": "false"
   },
   "outputs": [],
   "source": [
    "### Your code here"
   ]
  },
  {
   "cell_type": "markdown",
   "id": "proprietary-excitement",
   "metadata": {
    "Collapsed": "false"
   },
   "source": [
    "# Export the model"
   ]
  },
  {
   "cell_type": "markdown",
   "id": "turned-acceptance",
   "metadata": {
    "Collapsed": "false"
   },
   "source": [
    "Export the model to a PKL format"
   ]
  },
  {
   "cell_type": "code",
   "execution_count": null,
   "id": "coral-butter",
   "metadata": {
    "Collapsed": "false"
   },
   "outputs": [],
   "source": [
    "my_model = ...\n",
    "with open('my_model.pkl', 'wb') as f:\n",
    "    pickle.dump(my_model, f)"
   ]
  },
  {
   "cell_type": "markdown",
   "id": "varied-resource",
   "metadata": {
    "Collapsed": "false"
   },
   "source": [
    "**You're done! Well done!**\n",
    "\n",
    "All that is left now is to pack your notebook and model in a zip file and send in a return email to the email through which you received the assignment."
   ]
  }
 ],
 "metadata": {
  "kernelspec": {
   "display_name": "‘battery’",
   "language": "python",
   "name": "battery"
  },
  "language_info": {
   "codemirror_mode": {
    "name": "ipython",
    "version": 3
   },
   "file_extension": ".py",
   "mimetype": "text/x-python",
   "name": "python",
   "nbconvert_exporter": "python",
   "pygments_lexer": "ipython3",
   "version": "3.8.10"
  },
  "widgets": {
   "application/vnd.jupyter.widget-state+json": {
    "state": {},
    "version_major": 2,
    "version_minor": 0
   }
  }
 },
 "nbformat": 4,
 "nbformat_minor": 5
}
